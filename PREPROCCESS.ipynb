{
 "cells": [
  {
   "cell_type": "code",
   "execution_count": 3,
   "id": "64943dbb-f342-4171-90a9-51d91c004cc9",
   "metadata": {},
   "outputs": [
    {
     "name": "stderr",
     "output_type": "stream",
     "text": [
      "                                                                                \r"
     ]
    },
    {
     "name": "stdout",
     "output_type": "stream",
     "text": [
      "root\n",
      " |-- description: string (nullable = true)\n",
      " |-- fraudulent: string (nullable = true)\n",
      "\n"
     ]
    },
    {
     "name": "stderr",
     "output_type": "stream",
     "text": [
      "                                                                                \r"
     ]
    },
    {
     "name": "stdout",
     "output_type": "stream",
     "text": [
      "+--------------------+----------+\n",
      "|         description|fraudulent|\n",
      "+--------------------+----------+\n",
      "|Food52, a fast-gr...|         0|\n",
      "|Organised - Focus...|         0|\n",
      "|Our client, locat...|         0|\n",
      "|THE COMPANY: ESRI...|         0|\n",
      "|JOB TITLE: Itemiz...|         0|\n",
      "|Job OverviewApex ...|         0|\n",
      "|Your Responsibili...|         0|\n",
      "|Who is Airenvy?He...|         0|\n",
      "|Implementation/Co...|         0|\n",
      "|The Customer Serv...|         0|\n",
      "|Position : #URL_8...|         0|\n",
      "|TransferWise is t...|         0|\n",
      "|The Applications ...|         0|\n",
      "|Event Industry In...|         0|\n",
      "|Are you intereste...|         0|\n",
      "|About Vault Drago...|         0|\n",
      "|We are looking fo...|         0|\n",
      "|Government fundin...|         0|\n",
      "|Kettle is hiring ...|         0|\n",
      "|Experienced Proce...|         0|\n",
      "|IntelliBright is ...|         0|\n",
      "|Want to be part o...|         0|\n",
      "|The position repo...|         0|\n",
      "|#URL_eda2500ddced...|         0|\n",
      "|We are a canary w...|         0|\n",
      "|Hello,Wish you ar...|         0|\n",
      "|We are currently ...|         0|\n",
      "|HAAD/DHA Licensed...|         0|\n",
      "|(We have more tha...|         0|\n",
      "|The Customer Serv...|         0|\n",
      "+--------------------+----------+\n",
      "only showing top 30 rows\n",
      "\n"
     ]
    },
    {
     "name": "stderr",
     "output_type": "stream",
     "text": [
      "                                                                                \r"
     ]
    },
    {
     "name": "stdout",
     "output_type": "stream",
     "text": [
      "+-----------+----------+\n",
      "|description|fraudulent|\n",
      "+-----------+----------+\n",
      "|          0|         0|\n",
      "+-----------+----------+\n",
      "\n",
      "+--------------------+----------+--------------------+\n",
      "|         description|fraudulent|               words|\n",
      "+--------------------+----------+--------------------+\n",
      "|Food52, a fast-gr...|         0|[Food52,, a, fast...|\n",
      "|Organised - Focus...|         0|[Organised, -, Fo...|\n",
      "|Our client, locat...|         0|[Our, client,, lo...|\n",
      "|THE COMPANY: ESRI...|         0|[THE, COMPANY:, E...|\n",
      "|JOB TITLE: Itemiz...|         0|[JOB, TITLE:, Ite...|\n",
      "|Job OverviewApex ...|         0|[Job, OverviewApe...|\n",
      "|Your Responsibili...|         0|[Your, Responsibi...|\n",
      "|Who is Airenvy?He...|         0|[Who, is, Airenvy...|\n",
      "|Implementation/Co...|         0|[Implementation/C...|\n",
      "|The Customer Serv...|         0|[The, Customer, S...|\n",
      "+--------------------+----------+--------------------+\n",
      "only showing top 10 rows\n",
      "\n"
     ]
    },
    {
     "name": "stderr",
     "output_type": "stream",
     "text": [
      "22/07/01 15:15:24 WARN StopWordsRemover: Default locale set was [en_GR]; however, it was not found in available locales in JVM, falling back to en_US locale. Set param `locale` in order to respect another locale.\n",
      "22/07/01 15:15:24 WARN StopWordsRemover: Default locale set was [en_GR]; however, it was not found in available locales in JVM, falling back to en_US locale. Set param `locale` in order to respect another locale.\n",
      "                                                                                \r"
     ]
    },
    {
     "name": "stdout",
     "output_type": "stream",
     "text": [
      "+--------------------+----------+--------------------+--------------------+\n",
      "|         description|fraudulent|               words|            filtered|\n",
      "+--------------------+----------+--------------------+--------------------+\n",
      "|Food52, a fast-gr...|         0|[Food52,, a, fast...|[Food52,, fast-gr...|\n",
      "|Organised - Focus...|         0|[Organised, -, Fo...|[Organised, -, Fo...|\n",
      "|Our client, locat...|         0|[Our, client,, lo...|[client,, located...|\n",
      "|THE COMPANY: ESRI...|         0|[THE, COMPANY:, E...|[COMPANY:, ESRI, ...|\n",
      "|JOB TITLE: Itemiz...|         0|[JOB, TITLE:, Ite...|[JOB, TITLE:, Ite...|\n",
      "|Job OverviewApex ...|         0|[Job, OverviewApe...|[Job, OverviewApe...|\n",
      "|Your Responsibili...|         0|[Your, Responsibi...|[Responsibilities...|\n",
      "|Who is Airenvy?He...|         0|[Who, is, Airenvy...|[Airenvy?Hey, the...|\n",
      "|Implementation/Co...|         0|[Implementation/C...|[Implementation/C...|\n",
      "|The Customer Serv...|         0|[The, Customer, S...|[Customer, Servic...|\n",
      "|Position : #URL_8...|         0|[Position, :, #UR...|[Position, :, #UR...|\n",
      "|TransferWise is t...|         0|[TransferWise, is...|[TransferWise, cl...|\n",
      "|The Applications ...|         0|[The, Application...|[Applications, De...|\n",
      "|Event Industry In...|         0|[Event, Industry,...|[Event, Industry,...|\n",
      "|Are you intereste...|         0|[Are, you, intere...|[interested, sati...|\n",
      "|About Vault Drago...|         0|[About, Vault, Dr...|[Vault, Dragon Va...|\n",
      "|We are looking fo...|         0|[We, are, looking...|[looking, Hands-O...|\n",
      "|Government fundin...|         0|[Government, fund...|[Government, fund...|\n",
      "|Kettle is hiring ...|         0|[Kettle, is, hiri...|[Kettle, hiring, ...|\n",
      "|Experienced Proce...|         0|[Experienced, Pro...|[Experienced, Pro...|\n",
      "|IntelliBright is ...|         0|[IntelliBright, i...|[IntelliBright, g...|\n",
      "|Want to be part o...|         0|[Want, to, be, pa...|[Want, part, glob...|\n",
      "|The position repo...|         0|[The, position, r...|[position, report...|\n",
      "|#URL_eda2500ddced...|         0|[#URL_eda2500ddce...|[#URL_eda2500ddce...|\n",
      "|We are a canary w...|         0|[We, are, a, cana...|[canary, wharf, b...|\n",
      "|Hello,Wish you ar...|         0|[Hello,Wish, you,...|[Hello,Wish, are ...|\n",
      "|We are currently ...|         0|[We, are, current...|[currently, expan...|\n",
      "|HAAD/DHA Licensed...|         0|[HAAD/DHA, Licens...|[HAAD/DHA, Licens...|\n",
      "|(We have more tha...|         0|[(We, have, more,...|[(We, 1500+, Job,...|\n",
      "|The Customer Serv...|         0|[The, Customer, S...|[Customer, Servic...|\n",
      "|The Customer Serv...|         0|[The Customer, Se...|[The Customer, Se...|\n",
      "|Day to Day-Instal...|         0|[Day, to, Day-Ins...|[Day, Day-Install...|\n",
      "|Construction: Ent...|         0|[Construction:, E...|[Construction:, E...|\n",
      "|About the Company...|         0|[About, the, Comp...|[CompanyThis, an ...|\n",
      "|Didn't see a role...|         0|[Didn't, see, a, ...|[see, role, you?,...|\n",
      "|Play with kids, g...|         0|[Play, with, kids...|[Play, kids,, get...|\n",
      "|Play with kids, g...|         0|[Play, with, kids...|[Play, kids,, get...|\n",
      "|we are looking fo...|         0|[we, are, looking...|[looking, Project...|\n",
      "|You love clients ...|         0|[You, love, clien...|[love, clients, g...|\n",
      "|The Receptionist ...|         0|[The Receptionist...|[The Receptionist...|\n",
      "|Play with kids, g...|         0|[Play, with, kids...|[Play, kids,, get...|\n",
      "|Play with kids, g...|         0|[Play, with, kids...|[Play, kids,, get...|\n",
      "|Entry level Softw...|         0|[Entry, level, So...|[Entry, level, So...|\n",
      "|The Customer Serv...|         0|[The, Customer, S...|[Customer, Servic...|\n",
      "|We are currently ...|         0|[We, are, current...|[currently, seeki...|\n",
      "|As a Sales Repres...|         0|[As, a, Sales, Re...|[Sales, Represent...|\n",
      "|We offer diversif...|         0|[We, offer, diver...|[offer, diversifi...|\n",
      "|The Customer Serv...|         0|[The, Customer, S...|[Customer, Servic...|\n",
      "|Play with kids, g...|         0|[Play, with, kids...|[Play, kids,, get...|\n",
      "|We are currently ...|         0|[We, are, current...|[currently, seeki...|\n",
      "+--------------------+----------+--------------------+--------------------+\n",
      "only showing top 50 rows\n",
      "\n",
      "root\n",
      " |-- description: string (nullable = true)\n",
      " |-- fraudulent: string (nullable = true)\n",
      " |-- words: array (nullable = true)\n",
      " |    |-- element: string (containsNull = true)\n",
      " |-- filtered: array (nullable = true)\n",
      " |    |-- element: string (containsNull = true)\n",
      "\n"
     ]
    },
    {
     "name": "stderr",
     "output_type": "stream",
     "text": [
      "                                                                                \r"
     ]
    },
    {
     "name": "stdout",
     "output_type": "stream",
     "text": [
      "+-------+-------------------+\n",
      "|summary|         fraudulent|\n",
      "+-------+-------------------+\n",
      "|  count|              17880|\n",
      "|   mean|0.04843400447427293|\n",
      "| stddev|0.21468751586002602|\n",
      "|    min|                  0|\n",
      "|    max|                  1|\n",
      "+-------+-------------------+\n",
      "\n"
     ]
    },
    {
     "name": "stderr",
     "output_type": "stream",
     "text": [
      "                                                                                \r"
     ]
    },
    {
     "data": {
      "text/plain": [
       "17014"
      ]
     },
     "execution_count": 3,
     "metadata": {},
     "output_type": "execute_result"
    }
   ],
   "source": [
    "import sparknlp  # χρειάζεται μετά στον bert , επειδή χρησιμοποιεί πακέτα από spark nlp\n",
    "\n",
    "sparknlp.start(m1=True)   # m1=true ειδικη περιπτωση για διαθεση m1 processor, αν θελουμε χρηση gpu πχ gpu=True\n",
    "\n",
    "import findspark          # initializing findspark (not neccessary)\n",
    "findspark.init()\n",
    "\n",
    "from pyspark import SparkContext       # create spark context\n",
    "sc = SparkContext.getOrCreate()\n",
    "\n",
    "import pyspark\n",
    "from pyspark.sql import SparkSession             # create spark session\n",
    "spark = SparkSession.builder \\\n",
    "    .appName(\"SparkProjectBobotasMakris.com\") \\\n",
    "    .config(\"spark.jars.packages\", \"com.johnsnowlabs.nlp:spark-nlp_2.12:4.0.0\").getOrCreate()          \n",
    "    \n",
    "\n",
    "    \n",
    "from pyspark.sql.types import *\n",
    "from pyspark.sql import functions as F\n",
    "#from sparknlp.annotator import *   \n",
    "#from sparknlp.base import *                               # those in comments needed later on sparknlp using processes like bert or word embeddings.\n",
    "#from sparknlp.annotator import *\n",
    "#from pyspark.ml import Pipeline\n",
    "#from sparknlp import *\n",
    "#from sparknlp.common import *\n",
    "#from sparknlp.training import *\n",
    "df = spark.read.option(\"header\",\"true\") \\\n",
    "  .option(\"sep\", \",\") \\\n",
    "  .option(\"multiLine\", \"true\") \\\n",
    "  .option(\"quote\",\"\\\"\") \\\n",
    "  .option(\"escape\",\"\\\"\")\\\n",
    "  .option(\"ignoreTrailingWhiteSpace\", True) \\\n",
    "  .csv(\"/Users/evangelosgeraridis/Desktop/Big Data Management and Mining Methods/job_postings.csv\")\n",
    "\n",
    "\n",
    "# ο πάνω τρόπος ανάγνωσης βοηθά, καθώς αν βάλουμε μόνο sep με κόμμα μπερδεύει τα στοιχεία (π.χ. στη 17η γραμμή του fraudulent αντί για 0 ή 1 διάβαζε \n",
    "# κάτι από τη δίπλα στήλη string (αν βάζαμε μόνο option ( sep , ,)\n",
    "\n",
    "\n",
    "df = df.drop(*[c for c in df.columns if c not in {\"description\",\"fraudulent\"}])       # κρατάμε μόνο τις 2 στήλες που θέλουμε \n",
    "df.printSchema()\n",
    "\n",
    "df.show(30)\n",
    "\n",
    "\n",
    "\n",
    "df.select([F.count(F.when(F.isnan(c), c)).alias(c) for c in df.columns]).show() # θέλω απλά να δω αν υπάρχουν nan values στο  df που \n",
    "# έχει στήλες μόνο την job description και τη fraudulent( το new_df έχει και array των words της στήλης description)\n",
    "#,συνεπώς κοιτάμε απλά τις 2 στήλες ενδιαφέροντος. Τα έβαλα να εμφανίζονται σε μια γραμμή , \n",
    "# βλέπουμε ότι δεν υπάρχουν συνεπώς δε χρειαζόμαστε κάποια προεπεξεργασία (μέτρηση nan βγάζει 0 τω πλήθος) \n",
    "\n",
    "\n",
    "\n",
    "from pyspark.ml.feature import StopWordsRemover\n",
    "   \n",
    "new_df = df.withColumn('words',F.split(F.col('description'),' ')) # παιρνουμε χωρια καθε λεξη\n",
    "\n",
    "new_df.show(10) # από ότι έψαξα τα μοντάλα με τα οποία θέλουμε να ασχοληθου΄με εδώ δεν είναι case sesitive (δε υπάρχει διαφορά μεταξύ κεφαλαίων\n",
    "# ή μικρών γραμμάτων) οπότε είπα να χρησιμοποιήσω κάτι απλό και όχι κάποιο tokenizer\n",
    "stop_words = StopWordsRemover(inputCol = 'words' , outputCol = 'filtered')   # λεξεις με stowordsrmover γινονται εν τελει filtered(no stopwords)\n",
    "StopWordsRemover(inputCol=\"words\", outputCol=\"filtered\") \n",
    "new_df = stop_words.transform(new_df)\n",
    "new_df.show(50)\n",
    "new_df.printSchema()\n",
    "\n",
    "# αφου το new_df εχει ιδιες στηλες με το df & τη words + filtered βλέπουμε λίγο τα στατιστικά αυτού του dataset\n",
    "# για τη στήλη fraudulent ποσα μηδενικα εχει ως εγγραφες κυριως -> dataset balance\n",
    "\n",
    "new_df.describe(['fraudulent']).show() # θέλουμε να δούμε αρχικά πόσες εγγραφές έχει το fraudulent , βλέπουμε ότι έχει 17880\n",
    "new_df.filter(F.col(\"fraudulent\")==0).count() # για να δούμε κατά πόσο υπάρχει ανισσόροπία στο df μετράμε τα μηδενικά \n",
    "# βλέπουμε ότι λίγο παραπάνω από 95% των fraudulent εγγραφών είναι 0 -> highly inbalanced dataset\n",
    "# μια στρατηγική θα είναι μετά για τα training sets να πάρουμε δημιουργήσουμε νέες εγγραφές  fake 1 \n",
    "\n",
    "\n"
   ]
  },
  {
   "cell_type": "code",
   "execution_count": null,
   "id": "912f650d-76ab-4567-ac4d-73334372bb56",
   "metadata": {},
   "outputs": [],
   "source": [
    "#WORD 2 VEC\n",
    "\n",
    "from pyspark.ml.feature import Word2Vec\n",
    "word2Vec = Word2Vec(vectorSize=7, minCount=0, seed = 21, inputCol=\"filtered\", outputCol=\"word_vectors\")\n",
    "model = word2Vec.fit(new_df)\n",
    "# κάνουμε κάθε λέξη (απο τη στηλη χωρις stopwprds) -> διανυσμα διαστασης 7 ,seed αρχικοποιηση ουσιαστικα \n",
    "# mincount Ignores all words with total frequency lower than this. lower than zero-> δεν εμφανιζεται καν στο dataset\n",
    "word2vec_df= model.transform(new_df)\n",
    "word2vec_df = word2vec_df.drop(*[c for c in word2vec_df.columns if c not in {\"word_vectors\",\"fraudulent\"}])\n",
    "\n",
    "word2vec_df.show()"
   ]
  },
  {
   "cell_type": "code",
   "execution_count": null,
   "id": "072a7966-af36-45c8-87e0-ca38664efef9",
   "metadata": {},
   "outputs": [],
   "source": []
  }
 ],
 "metadata": {
  "kernelspec": {
   "display_name": "Python 3 (ipykernel)",
   "language": "python",
   "name": "python3"
  },
  "language_info": {
   "codemirror_mode": {
    "name": "ipython",
    "version": 3
   },
   "file_extension": ".py",
   "mimetype": "text/x-python",
   "name": "python",
   "nbconvert_exporter": "python",
   "pygments_lexer": "ipython3",
   "version": "3.8.8"
  },
  "widgets": {
   "application/vnd.jupyter.widget-state+json": {
    "state": {},
    "version_major": 2,
    "version_minor": 0
   }
  }
 },
 "nbformat": 4,
 "nbformat_minor": 5
}
